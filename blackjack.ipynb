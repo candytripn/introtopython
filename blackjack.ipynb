{
  "cells": [
    {
      "cell_type": "markdown",
      "metadata": {
        "id": "aXJcCVEdoGeh"
      },
      "source": [
        "## Cards"
      ]
    },
    {
      "cell_type": "code",
      "execution_count": 27,
      "metadata": {
        "id": "vI9p1Q2hMDk_"
      },
      "outputs": [],
      "source": [
        "import random\n",
        "import copy\n",
        "import time\n",
        "import ipywidgets as widgets\n",
        "from IPython.display import display, clear_output\n",
        "# from google.colab import output # type: ignore"
      ]
    },
    {
      "cell_type": "code",
      "execution_count": 28,
      "metadata": {
        "id": "1mrVoVVrmHHh"
      },
      "outputs": [],
      "source": [
        "# @title Card Dictionary and Objects {display-mode: \"form\"}\n",
        "\n",
        "## card dictionary and object\n",
        "deck = {\n",
        "    1: \"Ace of Spades\",\n",
        "    2: \"2 of Spades\",\n",
        "    3: \"3 of Spades\",\n",
        "    4: \"4 of Spades\",\n",
        "    5: \"5 of Spades\",\n",
        "    6: \"6 of Spades\",\n",
        "    7: \"7 of Spades\",\n",
        "    8: \"8 of Spades\",\n",
        "    9: \"9 of Spades\",\n",
        "    10: \"10 of Spades\",\n",
        "    11: \"Jack of Spades\",\n",
        "    12: \"Queen of Spades\",\n",
        "    13: \"King of Spades\",\n",
        "\n",
        "    14: \"Ace of Hearts\",\n",
        "    15: \"2 of Hearts\",\n",
        "    16: \"3 of Hearts\",\n",
        "    17: \"4 of Hearts\",\n",
        "    18: \"5 of Hearts\",\n",
        "    19: \"6 of Hearts\",\n",
        "    20: \"7 of Hearts\",\n",
        "    21: \"8 of Hearts\",\n",
        "    22: \"9 of Hearts\",\n",
        "    23: \"10 of Hearts\",\n",
        "    24: \"Jack of Hearts\",\n",
        "    25: \"Queen of Hearts\",\n",
        "    26: \"King of Hearts\",\n",
        "\n",
        "    27: \"Ace of Diamonds\",\n",
        "    28: \"2 of Diamonds\",\n",
        "    29: \"3 of Diamonds\",\n",
        "    30: \"4 of Diamonds\",\n",
        "    31: \"5 of Diamonds\",\n",
        "    32: \"6 of Diamonds\",\n",
        "    33: \"7 of Diamonds\",\n",
        "    34: \"8 of Diamonds\",\n",
        "    35: \"9 of Diamonds\",\n",
        "    36: \"10 of Diamonds\",\n",
        "    37: \"Jack of Diamonds\",\n",
        "    38: \"Queen of Diamonds\",\n",
        "    39: \"King of Diamonds\",\n",
        "\n",
        "    40: \"Ace of Clubs\",\n",
        "    41: \"2 of Clubs\",\n",
        "    42: \"3 of Clubs\",\n",
        "    43: \"4 of Clubs\",\n",
        "    44: \"5 of Clubs\",\n",
        "    45: \"6 of Clubs\",\n",
        "    46: \"7 of Clubs\",\n",
        "    47: \"8 of Clubs\",\n",
        "    48: \"9 of Clubs\",\n",
        "    49: \"10 of Clubs\",\n",
        "    50: \"Jack of Clubs\",\n",
        "    51: \"Queen of Clubs\",\n",
        "    52: \"King of Clubs\"\n",
        "}\n",
        "\n",
        "class server:\n",
        "    def __init__(self, game_in_progress=False):\n",
        "        self.game_in_progress = game_in_progress\n",
        "srv = server()\n",
        "\n",
        "class Card:\n",
        "    def __init__(self, name, id, suit):\n",
        "        self.name = name\n",
        "        self.id = id\n",
        "        self.suit = suit\n",
        "        self.value = self.get_value()\n",
        "\n",
        "    def get_value(self):\n",
        "        if \"Ace\" in self.name:\n",
        "            # This is a placeholder for the logic you described\n",
        "            # You would need to pass the 'mob' object or its value to this method\n",
        "            # For now, I'll just set a default value for non-Ace cards\n",
        "            return 11 # Default for Ace, will be adjusted based on context\n",
        "        elif \"Jack\" in self.name or \"Queen\" in self.name or \"King\" in self.name:\n",
        "            return 10\n",
        "        else:\n",
        "            return int(self.name.split()[0])\n",
        "\n",
        "    def get_ace_value(self, mob_value):\n",
        "        if \"Ace\" in self.name:\n",
        "            if mob_value <= 20:\n",
        "                return 11\n",
        "            else:\n",
        "                return 1\n",
        "        else:\n",
        "            return self.value\n",
        "\n",
        "\n",
        "    def __repr__(self):\n",
        "        return f\"Card('{self.name}', {self.id}, '{self.suit}', value={self.value})\"\n",
        "\n",
        "# Create all card objects (values will be calculated in __init__)\n",
        "def build_deck():\n",
        "  global test_cards\n",
        "  test_cards = [\n",
        "  Card(\"Ace of Spades\", 1, \"Spades\"),\n",
        "  Card(\"2 of Spades\", 2, \"Spades\"),\n",
        "  Card(\"3 of Spades\", 3, \"Spades\"),\n",
        "  Card(\"4 of Spades\", 4, \"Spades\"),\n",
        "  Card(\"5 of Spades\", 5, \"Spades\"),\n",
        "  Card(\"6 of Spades\", 6, \"Spades\"),\n",
        "  Card(\"7 of Spades\", 7, \"Spades\"),\n",
        "  Card(\"8 of Spades\", 8, \"Spades\"),\n",
        "  Card(\"9 of Spades\", 9, \"Spades\"),\n",
        "  Card(\"10 of Spades\", 10, \"Spades\"),\n",
        "  Card(\"Jack of Spades\", 11, \"Spades\"),\n",
        "  Card(\"Queen of Spades\", 12, \"Spades\"),\n",
        "  Card(\"King of Spades\", 13, \"Spades\"),\n",
        "\n",
        "  Card(\"Ace of Hearts\", 14, \"Hearts\"),\n",
        "  Card(\"2 of Hearts\", 15, \"Hearts\"),\n",
        "  Card(\"3 of Hearts\", 16, \"Hearts\"),\n",
        "  Card(\"4 of Hearts\", 17, \"Hearts\"),\n",
        "  Card(\"5 of Hearts\", 18, \"Hearts\"),\n",
        "  Card(\"6 of Hearts\", 19, \"Hearts\"),\n",
        "  Card(\"7 of Hearts\", 20, \"Hearts\"),\n",
        "  Card(\"8 of Hearts\", 21, \"Hearts\"),\n",
        "  Card(\"9 of Hearts\", 22, \"Hearts\"),\n",
        "  Card(\"10 of Hearts\", 23, \"Hearts\"),\n",
        "  Card(\"Jack of Hearts\", 24, \"Hearts\"),\n",
        "  Card(\"Queen of Hearts\", 25, \"Hearts\"),\n",
        "  Card(\"King of Hearts\", 26, \"Hearts\"),\n",
        "\n",
        "  Card(\"Ace of Diamonds\", 27, \"Diamonds\"),\n",
        "  Card(\"2 of Diamonds\", 28, \"Diamonds\"),\n",
        "  Card(\"3 of Diamonds\", 29, \"Diamonds\"),\n",
        "  Card(\"4 of Diamonds\", 30, \"Diamonds\"),\n",
        "  Card(\"5 of Diamonds\", 31, \"Diamonds\"),\n",
        "  Card(\"6 of Diamonds\", 32, \"Diamonds\"),\n",
        "  Card(\"7 of Diamonds\", 33, \"Diamonds\"),\n",
        "  Card(\"8 of Diamonds\", 34, \"Diamonds\"),\n",
        "  Card(\"9 of Diamonds\", 35, \"Diamonds\"),\n",
        "  Card(\"10 of Diamonds\", 36, \"Diamonds\"),\n",
        "  Card(\"Jack of Diamonds\", 37, \"Diamonds\"),\n",
        "  Card(\"Queen of Diamonds\", 38, \"Diamonds\"),\n",
        "  Card(\"King of Diamonds\", 39, \"Diamonds\"),\n",
        "\n",
        "  Card(\"Ace of Clubs\", 40, \"Clubs\"),\n",
        "  Card(\"2 of Clubs\", 41, \"Clubs\"),\n",
        "  Card(\"3 of Clubs\", 42, \"Clubs\"),\n",
        "  Card(\"4 of Clubs\", 43, \"Clubs\"),\n",
        "  Card(\"5 of Clubs\", 44, \"Clubs\"),\n",
        "  Card(\"6 of Clubs\", 45, \"Clubs\"),\n",
        "  Card(\"7 of Clubs\", 46, \"Clubs\"),\n",
        "  Card(\"8 of Clubs\", 47, \"Clubs\"),\n",
        "  Card(\"9 of Clubs\", 48, \"Clubs\"),\n",
        "  Card(\"10 of Clubs\", 49, \"Clubs\"),\n",
        "  Card(\"Jack of Clubs\", 50, \"Clubs\"),\n",
        "  Card(\"Queen of Clubs\", 51, \"Clubs\"),\n",
        "  Card(\"King of Clubs\", 52, \"Clubs\")\n",
        "  ]"
      ]
    },
    {
      "cell_type": "markdown",
      "metadata": {
        "id": "8cnVwIPooLwU"
      },
      "source": [
        "## classes"
      ]
    },
    {
      "cell_type": "code",
      "execution_count": 29,
      "metadata": {
        "id": "Szk3MPtW50AV"
      },
      "outputs": [],
      "source": [
        "build_deck()"
      ]
    },
    {
      "cell_type": "code",
      "execution_count": 30,
      "metadata": {
        "id": "eY0FogUFoNWL"
      },
      "outputs": [],
      "source": [
        "class player:\n",
        "    def __init__(self, name: str, value: int = 0, hand=None, bust=False):\n",
        "        # avoid mutable default like []\n",
        "        self.name = name\n",
        "        self.value = value\n",
        "        self.hand = [] if hand is None else list(hand)\n",
        "        self.bust = bust\n",
        "\n",
        "    def reset(self):\n",
        "        self.value = 0\n",
        "        self.hand = []\n",
        "        self.bust = bool(False)\n",
        "\n",
        "    def update(self, new_value=None, hand=None):\n",
        "        if hand is not None:\n",
        "            self.hand = list(hand)\n",
        "            self.value = sum(self.hand)\n",
        "        elif new_value is not None:\n",
        "            self.value = new_value\n",
        "        else:\n",
        "            raise ValueError(\"Must provide either new_value or hand\")\n",
        "\n",
        "    def rename(self, new_name):\n",
        "        self.name = new_name\n",
        "\n",
        "    def __str__(self):\n",
        "        return f\"Player(name={self.name!r}, value={self.value}, hand={self.hand}), bust={self.bust}\"\n",
        "\n",
        "    def __repr__(self):\n",
        "        return f\"Player(name={self.name!r}, value={self.value}, hand={self.hand}), bust={self.bust}\""
      ]
    },
    {
      "cell_type": "markdown",
      "metadata": {
        "id": "wu8b2Bd0r-ty"
      },
      "source": [
        "## Player name"
      ]
    },
    {
      "cell_type": "code",
      "execution_count": 31,
      "metadata": {
        "id": "7omFwUXt56n2"
      },
      "outputs": [],
      "source": [
        "build_deck()"
      ]
    },
    {
      "cell_type": "code",
      "execution_count": 32,
      "metadata": {
        "id": "-fZcGvo7sf4C"
      },
      "outputs": [
        {
          "name": "stdout",
          "output_type": "stream",
          "text": [
            "52\n"
          ]
        }
      ],
      "source": [
        "print(len(test_cards))"
      ]
    },
    {
      "cell_type": "code",
      "execution_count": 33,
      "metadata": {
        "id": "VwPu5dgaOVeR"
      },
      "outputs": [
        {
          "name": "stdout",
          "output_type": "stream",
          "text": [
            "[Card('Ace of Spades', 1, 'Spades', value=11), Card('2 of Spades', 2, 'Spades', value=2), Card('3 of Spades', 3, 'Spades', value=3), Card('4 of Spades', 4, 'Spades', value=4), Card('5 of Spades', 5, 'Spades', value=5), Card('6 of Spades', 6, 'Spades', value=6), Card('7 of Spades', 7, 'Spades', value=7), Card('8 of Spades', 8, 'Spades', value=8), Card('9 of Spades', 9, 'Spades', value=9), Card('10 of Spades', 10, 'Spades', value=10), Card('Jack of Spades', 11, 'Spades', value=10), Card('Queen of Spades', 12, 'Spades', value=10), Card('King of Spades', 13, 'Spades', value=10), Card('Ace of Hearts', 14, 'Hearts', value=11), Card('2 of Hearts', 15, 'Hearts', value=2), Card('3 of Hearts', 16, 'Hearts', value=3), Card('4 of Hearts', 17, 'Hearts', value=4), Card('5 of Hearts', 18, 'Hearts', value=5), Card('6 of Hearts', 19, 'Hearts', value=6), Card('7 of Hearts', 20, 'Hearts', value=7), Card('8 of Hearts', 21, 'Hearts', value=8), Card('9 of Hearts', 22, 'Hearts', value=9), Card('10 of Hearts', 23, 'Hearts', value=10), Card('Jack of Hearts', 24, 'Hearts', value=10), Card('Queen of Hearts', 25, 'Hearts', value=10), Card('King of Hearts', 26, 'Hearts', value=10), Card('Ace of Diamonds', 27, 'Diamonds', value=11), Card('2 of Diamonds', 28, 'Diamonds', value=2), Card('3 of Diamonds', 29, 'Diamonds', value=3), Card('4 of Diamonds', 30, 'Diamonds', value=4), Card('5 of Diamonds', 31, 'Diamonds', value=5), Card('6 of Diamonds', 32, 'Diamonds', value=6), Card('7 of Diamonds', 33, 'Diamonds', value=7), Card('8 of Diamonds', 34, 'Diamonds', value=8), Card('9 of Diamonds', 35, 'Diamonds', value=9), Card('10 of Diamonds', 36, 'Diamonds', value=10), Card('Jack of Diamonds', 37, 'Diamonds', value=10), Card('Queen of Diamonds', 38, 'Diamonds', value=10), Card('King of Diamonds', 39, 'Diamonds', value=10), Card('Ace of Clubs', 40, 'Clubs', value=11), Card('2 of Clubs', 41, 'Clubs', value=2), Card('3 of Clubs', 42, 'Clubs', value=3), Card('4 of Clubs', 43, 'Clubs', value=4), Card('5 of Clubs', 44, 'Clubs', value=5), Card('6 of Clubs', 45, 'Clubs', value=6), Card('7 of Clubs', 46, 'Clubs', value=7), Card('8 of Clubs', 47, 'Clubs', value=8), Card('9 of Clubs', 48, 'Clubs', value=9), Card('10 of Clubs', 49, 'Clubs', value=10), Card('Jack of Clubs', 50, 'Clubs', value=10), Card('Queen of Clubs', 51, 'Clubs', value=10), Card('King of Clubs', 52, 'Clubs', value=10)]\n",
            "52\n"
          ]
        }
      ],
      "source": [
        "print(test_cards)\n",
        "print(len(test_cards))"
      ]
    },
    {
      "cell_type": "code",
      "execution_count": 34,
      "metadata": {
        "id": "G-JnqVE5jSWC"
      },
      "outputs": [],
      "source": [
        "final_deck = test_cards * 8"
      ]
    },
    {
      "cell_type": "code",
      "execution_count": 35,
      "metadata": {
        "id": "Vec_5VWIFL2a"
      },
      "outputs": [],
      "source": [
        "output = widgets.Output(layout={'border': '1px solid green'})\n",
        "output2 = widgets.Output(layout={'border': '2px solid green'})"
      ]
    },
    {
      "cell_type": "code",
      "execution_count": 36,
      "metadata": {
        "id": "9PptHx8qjfzN"
      },
      "outputs": [],
      "source": [
        "def draw_card(name):\n",
        "  draw = random.choice(final_deck)\n",
        "  for card_obj in final_deck: # Changed loop variable name from Card to card_obj\n",
        "    if card_obj.name == draw.name:\n",
        "        final_deck.remove(card_obj)\n",
        "        break\n",
        "\n",
        "  if name.bust == True:\n",
        "    print(f\"{name.value}. You can't hit, you're already bust\")\n",
        "    return main_player.bust\n",
        "\n",
        "  print(f'Drew a {draw.name}!')\n",
        "  name.hand.append(draw)\n",
        "  update_value = name.value + draw.value\n",
        "  name.update(new_value=update_value)\n",
        "  print(f'Total hand value: {name.value}')\n",
        "  print(\"\\nCards in hand:\")\n",
        "  for card in name.hand:\n",
        "    print(card.name)\n",
        "\n",
        "  time.sleep(1)\n",
        "  if main_player.value > 21:\n",
        "    print(f\"{name.value}. You're Bust!\")\n",
        "    main_player.bust = True\n",
        "  elif main_player.value == 21 and len(main_player.hand) == 2:\n",
        "    print(f\"{name.value}. You're BlackJack!\")"
      ]
    },
    {
      "cell_type": "code",
      "execution_count": 37,
      "metadata": {
        "id": "qdvZyYRFnVLs"
      },
      "outputs": [],
      "source": [
        "# @title reset game {display-mode: \"form\"}\n",
        "\n",
        "\n",
        "# 1. Create the Output widget to capture and display the output\n",
        "output = widgets.Output(layout={'border': '1px solid yellow'})\n",
        "\n",
        "\n",
        "def reset_game(b):\n",
        "    global main_player, final_deck\n",
        "    dealer.reset()\n",
        "    with output:\n",
        "        clear_output() # Clear previous output in the widget\n",
        "        main_player.reset()\n",
        "        main_player.rename(\"Player\")\n",
        "        dealer.reset()\n",
        "        dealer.rename(\"The Dealer\")\n",
        "        dealer.update(hand=None, new_value=0)\n",
        "        print(\"Player reset\")\n",
        "        print(main_player)\n",
        "        final_deck = test_cards * 8\n",
        "        print(f\"Game Deck reset, {len(final_deck)} cards left\")\n",
        "\n",
        "\n",
        "button = widgets.Button(\n",
        "    description='Reset Game!',\n",
        "    button_style='danger'  # 'primary', 'success', 'warning', 'danger'\n",
        ")\n",
        "\n",
        "button.on_click(reset_game)"
      ]
    },
    {
      "cell_type": "code",
      "execution_count": 38,
      "metadata": {
        "id": "ci0x-leLi8lR"
      },
      "outputs": [],
      "source": [
        "def test(x):\n",
        "  x == str(x)\n",
        "  if x == player:\n",
        "    print(main_player)\n",
        "    print(main_player.hand)\n",
        "  elif x == dealer:\n",
        "    print(dealer)\n",
        "    print(dealer.hand)\n",
        "  else:\n",
        "    print(\"error\")\n"
      ]
    },
    {
      "cell_type": "code",
      "execution_count": 39,
      "metadata": {
        "id": "B4BRmlGWwyik"
      },
      "outputs": [],
      "source": [
        "@output2.capture()\n",
        "def game():\n",
        "  print('Starting new game')\n",
        "  time.sleep(1)\n",
        "  print(f'Welcome, {main_player.name}!')\n",
        "  time.sleep(.25)\n",
        "  print('Beginning first hand...')\n",
        "  draw_card(main_player)\n",
        "  time.sleep(.25)\n",
        "  draw_card(dealer)\n",
        "  time.sleep(.25)\n",
        "  draw_card(main_player)\n",
        "  time.sleep(.25)\n",
        "  draw_card(dealer)\n",
        "  time.sleep(.25)\n",
        "  with output:\n",
        "    clear_output() # Clear previous output in the widget\n",
        "    print(f'Name: {main_player.name}')\n",
        "    print(f'Cards in Hand: {main_player.hand}')\n",
        "    print(f'\\nCurrent Value: {main_player.value}')\n",
        "  with output:\n",
        "    print('\\n')\n",
        "    print(f'Name: {dealer.name}')\n",
        "    print(f'Cards in Hand: {dealer.hand}')\n",
        "    print(f'\\nCurrent Value: {dealer.value}')"
      ]
    },
    {
      "cell_type": "code",
      "execution_count": 40,
      "metadata": {
        "id": "8v2qo8TPw04j"
      },
      "outputs": [],
      "source": [
        "def dealer_turn():\n",
        "  if dealer.value < 17:\n",
        "    draw_card(dealer)\n",
        "    dealer_turn()\n",
        "  else:\n",
        "    print(f'Dealer stands at {dealer.value}')\n",
        "    with output:\n",
        "      clear_output() # Clear previous output in the widget\n",
        "      print(f'Name: {main_player.name}')\n",
        "      print(f'Cards in Hand: {main_player.hand}')\n",
        "      print(f'\\nCurrent Value: {main_player.value}')\n",
        "      print('\\n')\n",
        "      print(f'Name: {dealer.name}')\n",
        "      print(f'Cards in Hand: {dealer.hand}')\n",
        "      print(f'\\nCurrent Value: {dealer.value}')\n",
        "      check()"
      ]
    },
    {
      "cell_type": "code",
      "execution_count": 41,
      "metadata": {
        "id": "4VvznRDf2N4T"
      },
      "outputs": [],
      "source": [
        "def display():\n",
        "  print(f' Player: {main_player.name} \\n Held cards: {main_player.hand} \\n Value: {main_player.value}')\n",
        "  print(f' \\nDealer: {dealer.name} \\n Held cards: {dealer.hand} \\n Value: {dealer.value}')\n"
      ]
    },
    {
      "cell_type": "code",
      "execution_count": 42,
      "metadata": {
        "id": "5AqntA8hHlQJ"
      },
      "outputs": [],
      "source": [
        "game_in_progress = bool(False)"
      ]
    },
    {
      "cell_type": "code",
      "execution_count": 43,
      "metadata": {},
      "outputs": [],
      "source": [
        "# check for game win\n",
        "def check():\n",
        "    if dealer.value > 21:\n",
        "        print(f'The Dealer has {dealer.value}. The Dealer has bust!\\nYou win!')\n",
        "        game_in_progress = False\n",
        "    else:\n",
        "        if dealer.value >= main_player.value:\n",
        "            print(f'You have {main_player.value}, The Dealer has {dealer.value}. You lose.')\n",
        "            game_in_progress = False\n",
        "        elif dealer.value < main_player.value:\n",
        "            print(f'you win')\n",
        "            game_in_progress = False"
      ]
    },
    {
      "cell_type": "code",
      "execution_count": 44,
      "metadata": {
        "id": "51-ZOVpmxsmP"
      },
      "outputs": [
        {
          "data": {
            "application/vnd.jupyter.widget-view+json": {
              "model_id": "1f75414f575f4043be1f5b05012d7041",
              "version_major": 2,
              "version_minor": 0
            },
            "text/plain": [
              "VBox(children=(Button(button_style='primary', description='Start!', style=ButtonStyle()), Button(button_style=…"
            ]
          },
          "execution_count": 44,
          "metadata": {},
          "output_type": "execute_result"
        }
      ],
      "source": [
        "output = widgets.Output(layout={'border': '1px solid green'})\n",
        "output2 = widgets.Output(layout={'border': '2px solid green'})\n",
        "\n",
        "\n",
        "\n",
        "# 2. Define the function to be called on button click\n",
        "def hit_me(b):\n",
        "  global game_in_progress\n",
        "  if game_in_progress == True:\n",
        "    with output2:\n",
        "     name = main_player\n",
        "     clear_output() # Clear previous output in the widget\n",
        "     print(\"Hit\")\n",
        "     draw_card(name)\n",
        "     with output:\n",
        "        clear_output() # Clear previous output in the widget\n",
        "        print(f'Name: {main_player.name}')\n",
        "        print(f'Cards in Hand: {main_player.hand}')\n",
        "        print(f'\\nCurrent Value: {main_player.value}')\n",
        "        print('\\n')\n",
        "        print(f'Name: {dealer.name}')\n",
        "        print(f'Cards in Hand: {dealer.hand}')\n",
        "        print(f'\\nCurrent Value: {dealer.value}')\n",
        "  else:\n",
        "    with output2:\n",
        "      clear_output() # Clear previous output in the widget\n",
        "      print('\\n')\n",
        "      time.sleep(1)\n",
        "      print(\"\\nGame not in progress\\nStart new game first.\")\n",
        "\n",
        "\n",
        "def stand(b):\n",
        "  global game_in_progress\n",
        "  if game_in_progress == True:\n",
        "    with output:\n",
        "      clear_output() # Clear previous output in the widget\n",
        "      print(\"Stand\")\n",
        "      dealer_turn()\n",
        "  else:\n",
        "    with output2:\n",
        "      clear_output() # Clear previous output in the widget\n",
        "      time.sleep(1)\n",
        "      print(\"\\nGame not in progress\\nStart new game first.\")\n",
        "\n",
        "\n",
        "# 3. Create the button widget\n",
        "button = widgets.Button(\n",
        "    description='Hit me!',\n",
        "    button_style='success'  # 'primary', 'success', 'warning', 'danger'\n",
        ")\n",
        "button2 = widgets.Button(\n",
        "    description='Stay.',\n",
        "    button_style='success'  # 'primary', 'success', 'warning', 'danger'\n",
        ")\n",
        "\n",
        "def reset_game(b):\n",
        "    global main_player, final_deck, game_in_progress\n",
        "    game_in_progress = False\n",
        "    with output:\n",
        "      clear_output() # Clear previous output in the widget\n",
        "      main_player.reset()\n",
        "      main_player.rename(\"Player\")\n",
        "      print(\"Player reset\")\n",
        "      print(main_player)\n",
        "      final_deck = test_cards * 8\n",
        "      dealer.reset()\n",
        "      print(f\"Game Deck reset, {len(final_deck)} cards left\")\n",
        "\n",
        "def game1(b):\n",
        "  global game_in_progress\n",
        "  if game_in_progress == False:\n",
        "    game_in_progress = True\n",
        "    with output:\n",
        "      clear_output() # Clear previous output in the widget\n",
        "      print(\"\\nStarting new game\")\n",
        "      time.sleep(1)\n",
        "      print(f'Welcome, {main_player.name}!')\n",
        "      time.sleep(.25)\n",
        "      game()\n",
        "  else:\n",
        "   with output:\n",
        "      clear_output() # Clear previous output in the widget\n",
        "      print('\\n')\n",
        "      time.sleep(1)\n",
        "      print(\"\\nGame already in progress\")\n",
        "      print(f'Name: {main_player.name}')\n",
        "      print(f'Cards in Hand: {main_player.hand}')\n",
        "      print(f'\\nCurrent Value: {main_player.value}')\n",
        "      print('\\n')\n",
        "      print(f'Name: {dealer.name}')\n",
        "      print(f'Cards in Hand: {dealer.hand}')\n",
        "      print(f'\\nCurrent Value: {dealer.value}')\n",
        "\n",
        "\n",
        "button3 = widgets.Button(\n",
        "    description='Reset Game!',\n",
        "    button_style='danger'  # 'primary', 'success', 'warning', 'danger'\n",
        ")\n",
        "\n",
        "button4 = widgets.Button(\n",
        "    description='Start!',\n",
        "    button_style='primary'  # 'primary', 'success', 'warning', 'danger'\n",
        ")\n",
        "\n",
        "\n",
        "\n",
        "\n",
        "\n",
        "\n",
        "\n",
        "@output.capture()\n",
        "def get_player_name():\n",
        "  global main_player\n",
        "  global dealer\n",
        "  name = input(\"enter player name: \")\n",
        "  main_player = player(name)\n",
        "  print('\\n')\n",
        "  dealer = player(\"The Dealer\", 0, hand=None)\n",
        "  print(f'Name: {main_player.name}')\n",
        "  print(f'Cards in Hand: {main_player.hand}')\n",
        "  print(f'Current Value: {main_player.value}')\n",
        "  print('\\n')\n",
        "  print('\\n')\n",
        "  print(f'Name: {dealer.name}')\n",
        "  print(f'Cards in Hand: {dealer.hand}')\n",
        "  print(f'\\nCurrent Value: {dealer.value}')\n",
        "  return main_player, dealer\n",
        "  raise Exception('As does this')\n",
        "\n",
        "@output2.capture()\n",
        "def game():\n",
        "  print('Starting new game')\n",
        "  time.sleep(1)\n",
        "  print(f'Welcome, {main_player.name}!')\n",
        "  time.sleep(.25)\n",
        "  print('Beginning first hand...')\n",
        "  draw_card(main_player)\n",
        "  time.sleep(.25)\n",
        "  draw_card(dealer)\n",
        "  time.sleep(.25)\n",
        "  draw_card(main_player)\n",
        "  time.sleep(.25)\n",
        "  draw_card(dealer)\n",
        "  time.sleep(.25)\n",
        "  print(dealer)\n",
        "  with output:\n",
        "    clear_output() # Clear previous output in the widget\n",
        "    print(f'Name: {main_player.name}')\n",
        "    print(f'Cards in Hand: {main_player.hand}')\n",
        "    print(f'\\nCurrent Value: {main_player.value}')\n",
        "    print('\\n')\n",
        "    print(f'Name: {dealer.name}')\n",
        "    print(f'Cards in Hand: {dealer.hand}')\n",
        "    print(f'\\nCurrent Value: {dealer.value}')\n",
        "\n",
        "\n",
        "\n",
        "get_player_name()\n",
        "# 4. Attach the function to the button's on_click event\n",
        "#    Pass the function object itself, not the result of a function call.\n",
        "button.on_click(hit_me)\n",
        "button2.on_click(stand)\n",
        "button3.on_click(reset_game)\n",
        "button4.on_click(game1)\n",
        "\n",
        "# 5. Display the button and the output widget\n",
        "clear_output()\n",
        "time.sleep(1)\n",
        "\n",
        "\n",
        "\n",
        "widgets.VBox([button4, button, button2, button3, output, output2])\n"
      ]
    },
    {
      "cell_type": "markdown",
      "metadata": {},
      "source": [
        "## need to ensure ace value changes before bust is declared"
      ]
    },
    {
      "cell_type": "code",
      "execution_count": 50,
      "metadata": {
        "id": "sYL3cvfvmG4Y"
      },
      "outputs": [
        {
          "name": "stdout",
          "output_type": "stream",
          "text": [
            "0\n"
          ]
        }
      ],
      "source": [
        "print(dealer.value)"
      ]
    },
    {
      "cell_type": "code",
      "execution_count": 49,
      "metadata": {},
      "outputs": [],
      "source": [
        "dealer.reset()"
      ]
    },
    {
      "cell_type": "code",
      "execution_count": 46,
      "metadata": {
        "id": "52nkS-1CBk9-"
      },
      "outputs": [],
      "source": [
        "# @title Give me a name {display-mode: \"form\"}\n",
        "\n",
        "# This code will be hidden when the notebook is loaded."
      ]
    },
    {
      "cell_type": "code",
      "execution_count": 47,
      "metadata": {},
      "outputs": [
        {
          "name": "stdout",
          "output_type": "stream",
          "text": [
            "False\n"
          ]
        }
      ],
      "source": [
        "\n",
        "print(srv.game_in_progress)"
      ]
    },
    {
      "cell_type": "markdown",
      "metadata": {
        "id": "LeLWnmsSPl6z"
      },
      "source": [
        "# Game flow outline\n",
        "- game start\n",
        "  - first deal\n",
        "    - 2 cards to player\n",
        "    - 2 cards to dealer\n",
        "        - check for blackjack <-- Seperate function?\n",
        "    - player choice --- make function\n",
        "    - on hold\n",
        "      - start dealer round\n",
        "        - find standard dealer rulues\n",
        "\n",
        "      "
      ]
    }
  ],
  "metadata": {
    "colab": {
      "provenance": []
    },
    "kernelspec": {
      "display_name": "Python 3",
      "name": "python3"
    },
    "language_info": {
      "codemirror_mode": {
        "name": "ipython",
        "version": 3
      },
      "file_extension": ".py",
      "mimetype": "text/x-python",
      "name": "python",
      "nbconvert_exporter": "python",
      "pygments_lexer": "ipython3",
      "version": "3.12.1"
    }
  },
  "nbformat": 4,
  "nbformat_minor": 0
}
